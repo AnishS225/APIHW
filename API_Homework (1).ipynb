{
  "nbformat": 4,
  "nbformat_minor": 0,
  "metadata": {
    "colab": {
      "provenance": []
    },
    "kernelspec": {
      "name": "python3",
      "display_name": "Python 3"
    },
    "language_info": {
      "name": "python"
    }
  },
  "cells": [
    {
      "cell_type": "code",
      "execution_count": 1,
      "metadata": {
        "id": "BteJCeNAaGfI"
      },
      "outputs": [],
      "source": [
        "import json\n",
        "import pandas as pd\n",
        "import json\n",
        "import requests"
      ]
    },
    {
      "cell_type": "code",
      "source": [
        "#get stock from the user\n",
        "stock=input()"
      ],
      "metadata": {
        "colab": {
          "base_uri": "https://localhost:8080/"
        },
        "id": "dHcTkMZ7cN_N",
        "outputId": "5dbd4c09-5bac-462a-f428-f1f080f9499a"
      },
      "execution_count": 2,
      "outputs": [
        {
          "name": "stdout",
          "output_type": "stream",
          "text": [
            "AAPL\n"
          ]
        }
      ]
    },
    {
      "cell_type": "code",
      "source": [
        "apikey=\"INSERTAPIKEYHERE\"\n",
        "\n",
        "url = \"https://yfapi.net/v6/finance/quote\"\n",
        "\n",
        "querystring = {\"symbols\":stock}\n",
        "\n",
        "headers = {\n",
        "    'x-api-key': apikey\n",
        "    }\n",
        "\n",
        "response = requests.request(\"GET\", url, headers=headers, params=querystring)\n",
        "\n",
        "if response.status_code == 200:\n",
        "    print(\"API request successful!\")\n",
        "else:\n",
        "    print(f\"Failed to retrieve data: {response.status_code}\")\n",
        "\n",
        "stock_json = response.json()\n",
        "\n"
      ],
      "metadata": {
        "colab": {
          "base_uri": "https://localhost:8080/"
        },
        "id": "D0IamOyDeiwa",
        "outputId": "ce22b54e-5985-48f5-a42f-1938116a436e"
      },
      "execution_count": 3,
      "outputs": [
        {
          "output_type": "stream",
          "name": "stdout",
          "text": [
            "API request successful!\n"
          ]
        }
      ]
    },
    {
      "cell_type": "code",
      "source": [
        "longname = stock_json['quoteResponse']['result'][0].get(\"longName\", \"Field Empty\")\n",
        "Price = str(stock_json['quoteResponse']['result'][0].get(\"regularMarketPrice\", \"Field Empty\"))\n",
        "Ticker = stock_json['quoteResponse']['result'][0].get(\"symbol\", \"Field Empty\")\n",
        "fiftytwoweeklow = str(stock_json['quoteResponse']['result'][0].get(\"fiftyTwoWeekLow\", \"Field Empty\"))\n",
        "fiftytwoweekhigh = str(stock_json['quoteResponse']['result'][0].get(\"fiftyTwoWeekHigh\", \"Field Empty\"))\n",
        "\n",
        "if stock_json['quoteResponse']['result'] == []:\n",
        "    print(\"Invalid Stock Ticker\")\n",
        "else:\n",
        "    print(\n",
        "    longname +\n",
        "    \"\\n Price: $\" + Price +\n",
        "    \"\\n Ticker Symbol: \" + Ticker +\n",
        "    \"\\n Fifty-Two Week Low: \" + fiftytwoweeklow +\n",
        "    \"\\n Fifty-Two Week High: \" + fiftytwoweekhigh\n",
        ")"
      ],
      "metadata": {
        "colab": {
          "base_uri": "https://localhost:8080/"
        },
        "id": "WIwC0wNcuZIl",
        "outputId": "cec9d838-3b11-4ede-97f6-e650a82aecc1"
      },
      "execution_count": 4,
      "outputs": [
        {
          "output_type": "stream",
          "name": "stdout",
          "text": [
            "Apple Inc.\n",
            " Price: $227.725\n",
            " Ticker Symbol: AAPL\n",
            " Fifty-Two Week Low: 164.08\n",
            " Fifty-Two Week High: 237.23\n"
          ]
        }
      ]
    },
    {
      "cell_type": "code",
      "source": [
        "#API Pull for target mean price\n",
        "apikey=\"INSERTAPIKEYHERE\"\n",
        "\n",
        "url = \"https://yfapi.net/v11/finance/quoteSummary/\" + stock + \"?lang=en&region=US&modules=financialData\"\n",
        "\n",
        "querystring = {\"symbols\":stock}\n",
        "\n",
        "headers = {\n",
        "    'x-api-key': apikey\n",
        "    }\n",
        "\n",
        "\n",
        "response = requests.request(\"GET\", url, headers=headers, params=querystring)\n",
        "\n",
        "if response.status_code == 200:\n",
        "    print(\"API request successful!\")\n",
        "else:\n",
        "    print(f\"Failed to retrieve data: {response.status_code}\")\n"
      ],
      "metadata": {
        "colab": {
          "base_uri": "https://localhost:8080/"
        },
        "id": "Pq3n9FOccxDK",
        "outputId": "bb67bd33-ee7f-4b2e-e16c-dcd27c4a49eb"
      },
      "execution_count": 14,
      "outputs": [
        {
          "output_type": "stream",
          "name": "stdout",
          "text": [
            "API request successful!\n"
          ]
        }
      ]
    },
    {
      "cell_type": "code",
      "source": [
        "stock_json = response.json()\n",
        "\n",
        "targetmeanprice = stock_json['quoteSummary']['result'][0]['financialData']['targetMeanPrice']['fmt']\n",
        "\n",
        "if stock_json['quoteSummary']['result'][0] == []:\n",
        "    print(\"Field does not exist\")\n",
        "else:\n",
        "    print(\n",
        "    \"The target mean price of the stock is: $\" + targetmeanprice\n",
        ")\n"
      ],
      "metadata": {
        "colab": {
          "base_uri": "https://localhost:8080/"
        },
        "id": "U5uVc2redRWp",
        "outputId": "04bb926b-fe81-4e4a-a37c-c2bfcc59d774"
      },
      "execution_count": 6,
      "outputs": [
        {
          "output_type": "stream",
          "name": "stdout",
          "text": [
            "The target mean price of the stock is: $240.58\n"
          ]
        }
      ]
    },
    {
      "cell_type": "code",
      "source": [
        "\n",
        "apikey=\"INSERTAPIKEYHERE\"\n",
        "\n",
        "url = \"https://yfapi.net/v1/finance/trending/US\"\n",
        "\n",
        "querystring = {\"symbols\":stock}\n",
        "\n",
        "headers = {\n",
        "    'x-api-key': apikey\n",
        "    }\n",
        "\n",
        "response = requests.request(\"GET\", url, headers=headers, params=querystring)\n",
        "\n",
        "if response.status_code == 200:\n",
        "    print(\"API request successful!\")\n",
        "else:\n",
        "    print(f\"Failed to retrieve data: {response.status_code}\")"
      ],
      "metadata": {
        "colab": {
          "base_uri": "https://localhost:8080/"
        },
        "id": "_IrZhS-alZay",
        "outputId": "634ec275-f366-45ed-aafe-4905932d0647"
      },
      "execution_count": 7,
      "outputs": [
        {
          "output_type": "stream",
          "name": "stdout",
          "text": [
            "API request successful!\n"
          ]
        }
      ]
    },
    {
      "cell_type": "code",
      "source": [
        "#print the company name and price\n",
        "stock_json = response.json()\n",
        "\n",
        "trendystock1 = stock_json['finance']['result'][0]['quotes'][0]['symbol']\n",
        "trendystock2 = stock_json['finance']['result'][0]['quotes'][1]['symbol']\n",
        "trendystock3 = stock_json['finance']['result'][0]['quotes'][2]['symbol']\n",
        "trendystock4 = stock_json['finance']['result'][0]['quotes'][3]['symbol']\n",
        "trendystock5 = stock_json['finance']['result'][0]['quotes'][4]['symbol']\n",
        "\n",
        "if stock_json['finance']['result'][0]['quotes'] == []:\n",
        "    print(\"No trending stocks\")\n",
        "print(\"5 current trending stocks are: \\n\" +\n",
        "      trendystock1 +\n",
        "      \"\\n\" + trendystock2 +\n",
        "      \"\\n\" + trendystock3 +\n",
        "      \"\\n\" + trendystock4 +\n",
        "      \"\\n\" + trendystock5\n",
        ")\n"
      ],
      "metadata": {
        "colab": {
          "base_uri": "https://localhost:8080/"
        },
        "id": "iz7iYUY7p7VX",
        "outputId": "fa8f1a07-491d-4135-9f8c-4bf294d013a0"
      },
      "execution_count": 8,
      "outputs": [
        {
          "output_type": "stream",
          "name": "stdout",
          "text": [
            "5 current trending stocks are: \n",
            "AMSC\n",
            "PWR\n",
            "SNAP\n",
            "SOL-USD\n",
            "GC=F\n"
          ]
        }
      ]
    },
    {
      "cell_type": "code",
      "source": [
        "# Create a Pandas DataFrame\n",
        "data = {\n",
        "    \"Company Name\": [longname],\n",
        "    \"Price\": [Price],\n",
        "    \"Ticker\": [Ticker],\n",
        "    \"52 Week Low\": [fiftytwoweeklow],\n",
        "    \"52 Week High\": [fiftytwoweekhigh],\n",
        "    \"Target Mean Price\": [targetmeanprice],\n",
        "    \"Trending Stock 1\": [trendystock1],\n",
        "    \"Trending Stock 2\": [trendystock2],\n",
        "    \"Trending Stock 3\": [trendystock3],\n",
        "    \"Trending Stock 4\": [trendystock4],\n",
        "    \"Trending Stock 5\": [trendystock5]\n",
        "}\n",
        "\n",
        "df = pd.DataFrame(data)\n",
        "\n",
        "\n",
        "df.to_csv(\"stock_data.csv\", index=False)\n",
        "\n",
        "df\n"
      ],
      "metadata": {
        "colab": {
          "base_uri": "https://localhost:8080/",
          "height": 89
        },
        "id": "sRfRYXwDrcIm",
        "outputId": "f6534f59-9013-41ee-92a2-e70db3de47b6"
      },
      "execution_count": 9,
      "outputs": [
        {
          "output_type": "execute_result",
          "data": {
            "text/plain": [
              "  Company Name    Price Ticker 52 Week Low 52 Week High Target Mean Price  \\\n",
              "0   Apple Inc.  227.725   AAPL      164.08       237.23            240.58   \n",
              "\n",
              "  Trending Stock 1 Trending Stock 2 Trending Stock 3 Trending Stock 4  \\\n",
              "0             AMSC              PWR             SNAP          SOL-USD   \n",
              "\n",
              "  Trending Stock 5  \n",
              "0             GC=F  "
            ],
            "text/html": [
              "\n",
              "  <div id=\"df-14fe40c3-0e7d-49b3-b73a-c255f1fce522\" class=\"colab-df-container\">\n",
              "    <div>\n",
              "<style scoped>\n",
              "    .dataframe tbody tr th:only-of-type {\n",
              "        vertical-align: middle;\n",
              "    }\n",
              "\n",
              "    .dataframe tbody tr th {\n",
              "        vertical-align: top;\n",
              "    }\n",
              "\n",
              "    .dataframe thead th {\n",
              "        text-align: right;\n",
              "    }\n",
              "</style>\n",
              "<table border=\"1\" class=\"dataframe\">\n",
              "  <thead>\n",
              "    <tr style=\"text-align: right;\">\n",
              "      <th></th>\n",
              "      <th>Company Name</th>\n",
              "      <th>Price</th>\n",
              "      <th>Ticker</th>\n",
              "      <th>52 Week Low</th>\n",
              "      <th>52 Week High</th>\n",
              "      <th>Target Mean Price</th>\n",
              "      <th>Trending Stock 1</th>\n",
              "      <th>Trending Stock 2</th>\n",
              "      <th>Trending Stock 3</th>\n",
              "      <th>Trending Stock 4</th>\n",
              "      <th>Trending Stock 5</th>\n",
              "    </tr>\n",
              "  </thead>\n",
              "  <tbody>\n",
              "    <tr>\n",
              "      <th>0</th>\n",
              "      <td>Apple Inc.</td>\n",
              "      <td>227.725</td>\n",
              "      <td>AAPL</td>\n",
              "      <td>164.08</td>\n",
              "      <td>237.23</td>\n",
              "      <td>240.58</td>\n",
              "      <td>AMSC</td>\n",
              "      <td>PWR</td>\n",
              "      <td>SNAP</td>\n",
              "      <td>SOL-USD</td>\n",
              "      <td>GC=F</td>\n",
              "    </tr>\n",
              "  </tbody>\n",
              "</table>\n",
              "</div>\n",
              "    <div class=\"colab-df-buttons\">\n",
              "\n",
              "  <div class=\"colab-df-container\">\n",
              "    <button class=\"colab-df-convert\" onclick=\"convertToInteractive('df-14fe40c3-0e7d-49b3-b73a-c255f1fce522')\"\n",
              "            title=\"Convert this dataframe to an interactive table.\"\n",
              "            style=\"display:none;\">\n",
              "\n",
              "  <svg xmlns=\"http://www.w3.org/2000/svg\" height=\"24px\" viewBox=\"0 -960 960 960\">\n",
              "    <path d=\"M120-120v-720h720v720H120Zm60-500h600v-160H180v160Zm220 220h160v-160H400v160Zm0 220h160v-160H400v160ZM180-400h160v-160H180v160Zm440 0h160v-160H620v160ZM180-180h160v-160H180v160Zm440 0h160v-160H620v160Z\"/>\n",
              "  </svg>\n",
              "    </button>\n",
              "\n",
              "  <style>\n",
              "    .colab-df-container {\n",
              "      display:flex;\n",
              "      gap: 12px;\n",
              "    }\n",
              "\n",
              "    .colab-df-convert {\n",
              "      background-color: #E8F0FE;\n",
              "      border: none;\n",
              "      border-radius: 50%;\n",
              "      cursor: pointer;\n",
              "      display: none;\n",
              "      fill: #1967D2;\n",
              "      height: 32px;\n",
              "      padding: 0 0 0 0;\n",
              "      width: 32px;\n",
              "    }\n",
              "\n",
              "    .colab-df-convert:hover {\n",
              "      background-color: #E2EBFA;\n",
              "      box-shadow: 0px 1px 2px rgba(60, 64, 67, 0.3), 0px 1px 3px 1px rgba(60, 64, 67, 0.15);\n",
              "      fill: #174EA6;\n",
              "    }\n",
              "\n",
              "    .colab-df-buttons div {\n",
              "      margin-bottom: 4px;\n",
              "    }\n",
              "\n",
              "    [theme=dark] .colab-df-convert {\n",
              "      background-color: #3B4455;\n",
              "      fill: #D2E3FC;\n",
              "    }\n",
              "\n",
              "    [theme=dark] .colab-df-convert:hover {\n",
              "      background-color: #434B5C;\n",
              "      box-shadow: 0px 1px 3px 1px rgba(0, 0, 0, 0.15);\n",
              "      filter: drop-shadow(0px 1px 2px rgba(0, 0, 0, 0.3));\n",
              "      fill: #FFFFFF;\n",
              "    }\n",
              "  </style>\n",
              "\n",
              "    <script>\n",
              "      const buttonEl =\n",
              "        document.querySelector('#df-14fe40c3-0e7d-49b3-b73a-c255f1fce522 button.colab-df-convert');\n",
              "      buttonEl.style.display =\n",
              "        google.colab.kernel.accessAllowed ? 'block' : 'none';\n",
              "\n",
              "      async function convertToInteractive(key) {\n",
              "        const element = document.querySelector('#df-14fe40c3-0e7d-49b3-b73a-c255f1fce522');\n",
              "        const dataTable =\n",
              "          await google.colab.kernel.invokeFunction('convertToInteractive',\n",
              "                                                    [key], {});\n",
              "        if (!dataTable) return;\n",
              "\n",
              "        const docLinkHtml = 'Like what you see? Visit the ' +\n",
              "          '<a target=\"_blank\" href=https://colab.research.google.com/notebooks/data_table.ipynb>data table notebook</a>'\n",
              "          + ' to learn more about interactive tables.';\n",
              "        element.innerHTML = '';\n",
              "        dataTable['output_type'] = 'display_data';\n",
              "        await google.colab.output.renderOutput(dataTable, element);\n",
              "        const docLink = document.createElement('div');\n",
              "        docLink.innerHTML = docLinkHtml;\n",
              "        element.appendChild(docLink);\n",
              "      }\n",
              "    </script>\n",
              "  </div>\n",
              "\n",
              "\n",
              "  <div id=\"id_67de59dc-457b-43e9-875a-470e6abab00b\">\n",
              "    <style>\n",
              "      .colab-df-generate {\n",
              "        background-color: #E8F0FE;\n",
              "        border: none;\n",
              "        border-radius: 50%;\n",
              "        cursor: pointer;\n",
              "        display: none;\n",
              "        fill: #1967D2;\n",
              "        height: 32px;\n",
              "        padding: 0 0 0 0;\n",
              "        width: 32px;\n",
              "      }\n",
              "\n",
              "      .colab-df-generate:hover {\n",
              "        background-color: #E2EBFA;\n",
              "        box-shadow: 0px 1px 2px rgba(60, 64, 67, 0.3), 0px 1px 3px 1px rgba(60, 64, 67, 0.15);\n",
              "        fill: #174EA6;\n",
              "      }\n",
              "\n",
              "      [theme=dark] .colab-df-generate {\n",
              "        background-color: #3B4455;\n",
              "        fill: #D2E3FC;\n",
              "      }\n",
              "\n",
              "      [theme=dark] .colab-df-generate:hover {\n",
              "        background-color: #434B5C;\n",
              "        box-shadow: 0px 1px 3px 1px rgba(0, 0, 0, 0.15);\n",
              "        filter: drop-shadow(0px 1px 2px rgba(0, 0, 0, 0.3));\n",
              "        fill: #FFFFFF;\n",
              "      }\n",
              "    </style>\n",
              "    <button class=\"colab-df-generate\" onclick=\"generateWithVariable('df')\"\n",
              "            title=\"Generate code using this dataframe.\"\n",
              "            style=\"display:none;\">\n",
              "\n",
              "  <svg xmlns=\"http://www.w3.org/2000/svg\" height=\"24px\"viewBox=\"0 0 24 24\"\n",
              "       width=\"24px\">\n",
              "    <path d=\"M7,19H8.4L18.45,9,17,7.55,7,17.6ZM5,21V16.75L18.45,3.32a2,2,0,0,1,2.83,0l1.4,1.43a1.91,1.91,0,0,1,.58,1.4,1.91,1.91,0,0,1-.58,1.4L9.25,21ZM18.45,9,17,7.55Zm-12,3A5.31,5.31,0,0,0,4.9,8.1,5.31,5.31,0,0,0,1,6.5,5.31,5.31,0,0,0,4.9,4.9,5.31,5.31,0,0,0,6.5,1,5.31,5.31,0,0,0,8.1,4.9,5.31,5.31,0,0,0,12,6.5,5.46,5.46,0,0,0,6.5,12Z\"/>\n",
              "  </svg>\n",
              "    </button>\n",
              "    <script>\n",
              "      (() => {\n",
              "      const buttonEl =\n",
              "        document.querySelector('#id_67de59dc-457b-43e9-875a-470e6abab00b button.colab-df-generate');\n",
              "      buttonEl.style.display =\n",
              "        google.colab.kernel.accessAllowed ? 'block' : 'none';\n",
              "\n",
              "      buttonEl.onclick = () => {\n",
              "        google.colab.notebook.generateWithVariable('df');\n",
              "      }\n",
              "      })();\n",
              "    </script>\n",
              "  </div>\n",
              "\n",
              "    </div>\n",
              "  </div>\n"
            ],
            "application/vnd.google.colaboratory.intrinsic+json": {
              "type": "dataframe",
              "variable_name": "df",
              "summary": "{\n  \"name\": \"df\",\n  \"rows\": 1,\n  \"fields\": [\n    {\n      \"column\": \"Company Name\",\n      \"properties\": {\n        \"dtype\": \"string\",\n        \"num_unique_values\": 1,\n        \"samples\": [\n          \"Apple Inc.\"\n        ],\n        \"semantic_type\": \"\",\n        \"description\": \"\"\n      }\n    },\n    {\n      \"column\": \"Price\",\n      \"properties\": {\n        \"dtype\": \"string\",\n        \"num_unique_values\": 1,\n        \"samples\": [\n          \"227.725\"\n        ],\n        \"semantic_type\": \"\",\n        \"description\": \"\"\n      }\n    },\n    {\n      \"column\": \"Ticker\",\n      \"properties\": {\n        \"dtype\": \"string\",\n        \"num_unique_values\": 1,\n        \"samples\": [\n          \"AAPL\"\n        ],\n        \"semantic_type\": \"\",\n        \"description\": \"\"\n      }\n    },\n    {\n      \"column\": \"52 Week Low\",\n      \"properties\": {\n        \"dtype\": \"string\",\n        \"num_unique_values\": 1,\n        \"samples\": [\n          \"164.08\"\n        ],\n        \"semantic_type\": \"\",\n        \"description\": \"\"\n      }\n    },\n    {\n      \"column\": \"52 Week High\",\n      \"properties\": {\n        \"dtype\": \"string\",\n        \"num_unique_values\": 1,\n        \"samples\": [\n          \"237.23\"\n        ],\n        \"semantic_type\": \"\",\n        \"description\": \"\"\n      }\n    },\n    {\n      \"column\": \"Target Mean Price\",\n      \"properties\": {\n        \"dtype\": \"string\",\n        \"num_unique_values\": 1,\n        \"samples\": [\n          \"240.58\"\n        ],\n        \"semantic_type\": \"\",\n        \"description\": \"\"\n      }\n    },\n    {\n      \"column\": \"Trending Stock 1\",\n      \"properties\": {\n        \"dtype\": \"string\",\n        \"num_unique_values\": 1,\n        \"samples\": [\n          \"AMSC\"\n        ],\n        \"semantic_type\": \"\",\n        \"description\": \"\"\n      }\n    },\n    {\n      \"column\": \"Trending Stock 2\",\n      \"properties\": {\n        \"dtype\": \"string\",\n        \"num_unique_values\": 1,\n        \"samples\": [\n          \"PWR\"\n        ],\n        \"semantic_type\": \"\",\n        \"description\": \"\"\n      }\n    },\n    {\n      \"column\": \"Trending Stock 3\",\n      \"properties\": {\n        \"dtype\": \"string\",\n        \"num_unique_values\": 1,\n        \"samples\": [\n          \"SNAP\"\n        ],\n        \"semantic_type\": \"\",\n        \"description\": \"\"\n      }\n    },\n    {\n      \"column\": \"Trending Stock 4\",\n      \"properties\": {\n        \"dtype\": \"string\",\n        \"num_unique_values\": 1,\n        \"samples\": [\n          \"SOL-USD\"\n        ],\n        \"semantic_type\": \"\",\n        \"description\": \"\"\n      }\n    },\n    {\n      \"column\": \"Trending Stock 5\",\n      \"properties\": {\n        \"dtype\": \"string\",\n        \"num_unique_values\": 1,\n        \"samples\": [\n          \"GC=F\"\n        ],\n        \"semantic_type\": \"\",\n        \"description\": \"\"\n      }\n    }\n  ]\n}"
            }
          },
          "metadata": {},
          "execution_count": 9
        }
      ]
    },
    {
      "cell_type": "code",
      "source": [
        "apikey=\"INSERTAPIKEYHERE\"\n",
        "\n",
        "url = \"https://yfapi.net/v8/finance/chart/AAPL?comparisons=\" + stock + \"%2C%5EVIX&range=1mo&region=US&interval=1wk&lang=en&events=div%2Csplit\"\n",
        "\n",
        "\n",
        "querystring = {\"symbols\":stock}\n",
        "\n",
        "headers = {\n",
        "    'x-api-key': apikey\n",
        "    }\n",
        "\n",
        "response = requests.request(\"GET\", url, headers=headers, params=querystring)\n",
        "\n",
        "if response.status_code == 200:\n",
        "    print(\"API request successful!\")\n",
        "else:\n",
        "    print(f\"Failed to retrieve data: {response.status_code}\")"
      ],
      "metadata": {
        "colab": {
          "base_uri": "https://localhost:8080/"
        },
        "id": "BIBIh_v50wX3",
        "outputId": "69c21493-71b0-416a-b7f0-6f2ee76fbf2d"
      },
      "execution_count": 11,
      "outputs": [
        {
          "output_type": "stream",
          "name": "stdout",
          "text": [
            "API request successful!\n"
          ]
        }
      ]
    },
    {
      "cell_type": "code",
      "source": [
        "\n",
        "stock_json = response.json()\n",
        "\n",
        "pastfivedays = stock_json['chart']['result'][0]['indicators']['quote'][0]['high']\n",
        "\n",
        "if stock_json['chart']['result'][0]['indicators']['quote'][0]['high'] == []:\n",
        "    print(\"No trending stocks\")\n",
        "\n",
        "today = pastfivedays[0]\n",
        "yesterday = pastfivedays[1]\n",
        "daybeforeyesterday = pastfivedays[2]\n",
        "daybeforedaybeforeyesterday = pastfivedays[3]\n",
        "daybeforedaybeforedaybeforeyesterday = pastfivedays[4]\n",
        "print(\"The high stock data for the past five days is: \\n\" + str(today) + \"\\n\"+ str(yesterday) +\"\\n\"+ str(daybeforeyesterday) +\"\\n\"+ str(daybeforedaybeforeyesterday) +\"\\n\"+ str(daybeforedaybeforedaybeforeyesterday))"
      ],
      "metadata": {
        "colab": {
          "base_uri": "https://localhost:8080/"
        },
        "id": "lcXLaUEx1q58",
        "outputId": "b3aea1f0-e935-4313-89ef-559b5c7ffcf1"
      },
      "execution_count": 12,
      "outputs": [
        {
          "output_type": "stream",
          "name": "stdout",
          "text": [
            "The high stock data for the past five days is: \n",
            "232.9199981689453\n",
            "229.0\n",
            "224.0399932861328\n",
            "233.08999633789062\n",
            "229.52000427246094\n"
          ]
        }
      ]
    },
    {
      "cell_type": "code",
      "source": [
        "import matplotlib.pyplot as plt\n",
        "import matplotlib.dates as mdates\n",
        "from datetime import datetime\n",
        "\n",
        "\n",
        "prices = [today, yesterday, daybeforeyesterday, daybeforedaybeforeyesterday, daybeforedaybeforedaybeforeyesterday]\n",
        "\n",
        "\n",
        "pastfivedays = [\n",
        "    \"2024-09-29\",  # today\n",
        "    \"2024-09-28\",  # yesterday\n",
        "    \"2024-09-27\",  # day before yesterday\n",
        "    \"2024-09-26\",  # day before the day before yesterday\n",
        "    \"2024-09-25\"   # day before the day before the day before yesterday\n",
        "]\n",
        "\n",
        "# Convert date strings to datetime objects\n",
        "dates = [datetime.strptime(date, \"%Y-%m-%d\") for date in pastfivedays]\n",
        "\n",
        "# Create a line plot\n",
        "plt.figure(figsize=(10, 5))\n",
        "plt.plot(dates, prices, marker='o')\n",
        "\n",
        "# Formatting the x-axis\n",
        "plt.gca().xaxis.set_major_formatter(mdates.DateFormatter('%Y-%m-%d'))\n",
        "plt.gca().xaxis.set_major_locator(mdates.DayLocator())\n",
        "\n",
        "# Add labels and title\n",
        "plt.title(\"Price Over the Last Five Days\")\n",
        "plt.xlabel(\"Date\")\n",
        "plt.ylabel(\"Price\")\n",
        "plt.grid()\n",
        "\n",
        "# Show the plot\n",
        "plt.show()"
      ],
      "metadata": {
        "colab": {
          "base_uri": "https://localhost:8080/",
          "height": 487
        },
        "id": "Wj0hXKKQ54sk",
        "outputId": "40092d28-fef4-44ff-a5aa-54d6d3cba993"
      },
      "execution_count": 13,
      "outputs": [
        {
          "output_type": "display_data",
          "data": {
            "text/plain": [
              "<Figure size 1000x500 with 1 Axes>"
            ],
            "image/png": "[encoded data removed]"
          },
          "metadata": {}
        }
      ]
    }
  ]
}